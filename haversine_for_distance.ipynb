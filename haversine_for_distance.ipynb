{
 "cells": [
  {
   "cell_type": "code",
   "execution_count": 1,
   "metadata": {},
   "outputs": [],
   "source": [
    "import pandas as pd\n",
    "import numpy as np\n",
    "from geopy.distance import distance\n",
    "from haversine import haversine_vector, Unit\n",
    "\n",
    "\n",
    "def distance_of_home_third_places(row):\n",
    "    coords1 = (row[\"mean_lon_home\"], row[\"mean_lat_home\"])\n",
    "    coords2 = (row[\"mean_lon_third\"], row[\"mean_lat_third\"])\n",
    "    return distance(coords1, coords2).km\n",
    "\n",
    "\n",
    "def distance_of_home_third_places_haversine_vector(row):\n",
    "    return haversine_vector((row[\"mean_lat_home\"], row[\"mean_lon_home\"]),\n",
    "                            (row[\"mean_lat_third\"], row[\"mean_lon_third\"]), unit=Unit.KILOMETERS)"
   ]
  },
  {
   "cell_type": "markdown",
   "metadata": {},
   "source": [
    "## Generateing random sample data"
   ]
  },
  {
   "cell_type": "code",
   "execution_count": 2,
   "metadata": {},
   "outputs": [],
   "source": [
    "SIZE = 1_000_000\n",
    "\n",
    "df = pd.DataFrame({\"mean_lon_home\": np.random.uniform(18.5, 19.25, size=SIZE),\n",
    "                   \"mean_lat_home\": np.random.uniform(47, 48, size=SIZE),\n",
    "                   \"mean_lon_third\": np.random.uniform(18.5, 19.25, size=SIZE),\n",
    "                   \"mean_lat_third\": np.random.uniform(47, 48, size=SIZE)})"
   ]
  },
  {
   "cell_type": "markdown",
   "metadata": {},
   "source": [
    "## Run old version with geopy.distance "
   ]
  },
  {
   "cell_type": "code",
   "execution_count": 3,
   "metadata": {},
   "outputs": [],
   "source": [
    "df[\"distance\"] = df.apply(distance_of_home_third_places, axis=1)"
   ]
  },
  {
   "cell_type": "markdown",
   "metadata": {},
   "source": [
    "## Creating tuple vectors from the lon and the lat columns"
   ]
  },
  {
   "cell_type": "code",
   "execution_count": 11,
   "metadata": {},
   "outputs": [],
   "source": [
    "df[\"home\"] = df.apply(lambda x: (x[\"mean_lat_home\"], x[\"mean_lon_home\"]), axis=1)\n",
    "df[\"third\"] = df.apply(lambda x: (x[\"mean_lat_third\"], x[\"mean_lon_third\"]), axis=1)"
   ]
  },
  {
   "cell_type": "markdown",
   "metadata": {},
   "source": [
    "### More efficient way"
   ]
  },
  {
   "cell_type": "code",
   "execution_count": 12,
   "metadata": {},
   "outputs": [],
   "source": [
    "df[\"home2\"] = list(zip(df[\"mean_lat_home\"], df[\"mean_lon_home\"]))\n",
    "df[\"third2\"] = list(zip(df[\"mean_lat_third\"], df[\"mean_lon_third\"]))"
   ]
  },
  {
   "cell_type": "markdown",
   "metadata": {},
   "source": [
    "## Use haversine_vector from haversine package"
   ]
  },
  {
   "cell_type": "code",
   "execution_count": 10,
   "metadata": {},
   "outputs": [
    {
     "data": {
      "text/plain": [
       "array([49.69694367, 39.3017731 , 42.81560515, ..., 11.52711792,\n",
       "       66.36881106, 50.62300573])"
      ]
     },
     "execution_count": 10,
     "metadata": {},
     "output_type": "execute_result"
    }
   ],
   "source": [
    "haversine_vector(df[\"home\"].tolist(), df[\"third\"].tolist())"
   ]
  }
 ],
 "metadata": {
  "interpreter": {
   "hash": "e7370f93d1d0cde622a1f8e1c04877d8463912d04d973331ad4851f04de6915a"
  },
  "kernelspec": {
   "display_name": "Python 3.10.4 64-bit",
   "language": "python",
   "name": "python3"
  },
  "language_info": {
   "codemirror_mode": {
    "name": "ipython",
    "version": 3
   },
   "file_extension": ".py",
   "mimetype": "text/x-python",
   "name": "python",
   "nbconvert_exporter": "python",
   "pygments_lexer": "ipython3",
   "version": "3.10.4"
  },
  "orig_nbformat": 4
 },
 "nbformat": 4,
 "nbformat_minor": 2
}
